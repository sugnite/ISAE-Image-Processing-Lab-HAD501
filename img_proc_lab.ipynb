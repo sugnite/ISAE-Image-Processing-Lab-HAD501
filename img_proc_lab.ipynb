{
 "cells": [
  {
   "cell_type": "markdown",
   "id": "037867e2",
   "metadata": {},
   "source": [
    "## Introduction\n",
    "Welcome to the first exercise in our image processing module. This exercise is designed to familiarize you with basic image manipulation using a custom Python class called `LabImageProcessing`. This class provides a simple interface for image opening and retrieval, using Python's popular libraries like OpenCV and Tkinter.\n",
    "\n",
    "\n",
    "**Instructions**:\n",
    "\n",
    "**Import the LabImageProcessing Class**: Ensure you have the `LabImageProcessing` class available in your working directory.\n",
    "\n",
    "**Requirements**:\n",
    "- Python 3.x\n",
    "- OpenCV (`cv2`), Tkinter, matplotlib, numpy\n",
    "- `LabImageProcessing` class (provided)"
   ]
  },
  {
   "cell_type": "markdown",
   "id": "79cd209e",
   "metadata": {},
   "source": [
    "## Introduction Exercise for Jupyter Notebook & Python\n",
    "\n",
    "### Objective\n",
    "This introductory exercise is designed to familiarize you with basic Python operations, matplotlib plotting, and OpenCV image handling in a Jupyter Notebook environment. \n",
    "\n",
    "### Section 1: Basic Python Operations\n",
    "\n",
    "1. **Print and Variable Assignments**\n",
    "   - Use the `print` function to display text.\n",
    "   - Learn how to assign values to variables."
   ]
  },
  {
   "cell_type": "code",
   "execution_count": null,
   "id": "c492e9ae",
   "metadata": {},
   "outputs": [],
   "source": [
    "# Print a welcome message\n",
    "print(\"Welcome to the Image Processing Lab!\")\n",
    "\n",
    "# Assigning variables\n",
    "a = 10\n",
    "b = 20\n",
    "sum_ab = a + b\n",
    "\n",
    "# Print the result\n",
    "print(\"The sum of a and b is:\", sum_ab)"
   ]
  },
  {
   "cell_type": "markdown",
   "id": "e697cb3c",
   "metadata": {},
   "source": [
    "## Section 2: Interaction with the notebook\n",
    "\n",
    "1. **Importing and using  `LabImageProcessing` objects**\n",
    "   - Learn how to create a and use class/subclass objects\n",
    "   - `LabImageProcessing` class contain all the required imports. So you don't have to worry about what else you need\n",
    "   \n",
    "2. **Creating a Simple Plot**\n",
    "   - Learn how to create a plot using matplotlib wrapped into the LabImageProcessing\n",
    "   - Explore zooming and hovering features in plots.\n"
   ]
  },
  {
   "cell_type": "code",
   "execution_count": null,
   "id": "ee4f348c",
   "metadata": {
    "scrolled": false
   },
   "outputs": [],
   "source": [
    "# Import the LabImageProcessing \n",
    "from LabImageProcessing import LabImageProcessing\n",
    "\n",
    "# Create the example_object\n",
    "example_object = LabImageProcessing.Examples()\n",
    "\n",
    "# Create a sinus function object using example_object\n",
    "sinus_function = example_object.create_sinus_function()\n",
    "\n",
    "# Visualize the function using Matplotlib integrated into the class\n",
    "example_object.plot_function(sinus_function)"
   ]
  },
  {
   "cell_type": "markdown",
   "id": "7b13d560",
   "metadata": {},
   "source": [
    "The function is now integrated into the Jupyternotbook. It's like an image."
   ]
  },
  {
   "cell_type": "markdown",
   "id": "896a14f8",
   "metadata": {},
   "source": [
    "3. **Image visualization example with OpenCV**\n",
    "   - How to viewx an image in a seprate windows\n",
    "   - Explore interacting with external windows in Jupyter Notebooks (Can't continue until it's closed)\n"
   ]
  },
  {
   "cell_type": "code",
   "execution_count": null,
   "id": "da8a2fb3",
   "metadata": {},
   "outputs": [],
   "source": [
    "# Visualize the demo image using OpenCV integrated into the class\n",
    "example_object.show_example_image()"
   ]
  },
  {
   "cell_type": "markdown",
   "id": "f153c486",
   "metadata": {},
   "source": [
    "#### Important Notes on Jupyter Notebook Usage\n",
    "\n",
    "1. **Re-running Cells**\n",
    "   - You can re-run a cell in a Jupyter Notebook as many times as needed without reloading the entire notebook. This feature is useful for iterative testing and debugging. However, be aware that re-running a cell will update any variables defined within it.\n",
    "\n",
    "   Example:\n"
   ]
  },
  {
   "cell_type": "code",
   "execution_count": null,
   "id": "bd8579f9",
   "metadata": {},
   "outputs": [],
   "source": [
    "count = 0  # Initialize the count"
   ]
  },
  {
   "cell_type": "code",
   "execution_count": null,
   "id": "e4077d42",
   "metadata": {},
   "outputs": [],
   "source": [
    "# Each time you run this cell, 'count' will increase by 1\n",
    "count += 1\n",
    "print(\"Count value:\", count)"
   ]
  },
  {
   "cell_type": "markdown",
   "id": "2c829ffb",
   "metadata": {},
   "source": [
    "\n",
    "2. **Kernel Management**\n",
    "   - If you encounter issues or need to reset your environment, you can restart the kernel. However, be aware that restarting the kernel clears all variables and objects. You will need to rerun cells to restore your working environment.\n",
    "\n",
    "   - To restart the kernel, you can use the menu options in Jupyter Notebook, typically found under \"Kernel\" > \"Restart\".\n"
   ]
  },
  {
   "cell_type": "markdown",
   "id": "adf76147",
   "metadata": {},
   "source": [
    "## Exercise 1: Importing and Handling an Image\n",
    "\n",
    "**Objective**: Learn to import an image using a custom class and retrieve its path for future use.\n",
    "\n",
    "1. **Create an ImageOpener Object**: Instantiate an object of the `ImageOpener` class inside `LabImageProcessing`. \n",
    "\n",
    "    ```python\n",
    "    from LabImageProcessing import LabImageProcessing\n",
    "    opener = LabImageProcessing.ImageOpener()\n",
    "    opener.open_image()\n",
    "    ```\n",
    "\n",
    "2. **Open an Image**: Use the `open_image` method to select and open an image. This can be done by either providing an image path or using a file dialog to select an image.\n",
    "\n",
    "3. **Retrieve the Image Path**: Once the image is opened, retrieve the image path using `get_image_path` method. This path can be used for future references. In python, you can `print()` data to check infos. Print the image's path after the frist import so you don't have to always search for the image at the startup of the function.\n",
    "\n",
    "4. **Load the Image**: Obtain the image object using the `get_image` method. This image object can be used for further image processing tasks.\n",
    "\n",
    "5. **Resize Image**: You get tools with this class to check some infos on the image. Check the image size, if it's too big you can fasten the image processing by downscaling the image *(A good width can be 640px)*. If big object in the image you won't loose a lot of details for the processing with a downscaling.\n",
    "\n",
    "**Note**: For the first time, you might open the image using the file dialog. Note the path, and you can directly use this path for subsequent openings."
   ]
  },
  {
   "cell_type": "code",
   "execution_count": null,
   "id": "1bfa0ce9",
   "metadata": {},
   "outputs": [],
   "source": [
    "from LabImageProcessing import LabImageProcessing"
   ]
  },
  {
   "cell_type": "code",
   "execution_count": null,
   "id": "0384f9c4",
   "metadata": {},
   "outputs": [],
   "source": [
    "# Import an Image using the openeer tool\n",
    "opener = LabImageProcessing.ImageOpener()\n",
    "image_path = None # Add the image path here after it has been opened once"
   ]
  },
  {
   "cell_type": "code",
   "execution_count": null,
   "id": "a2d0acaa",
   "metadata": {},
   "outputs": [],
   "source": [
    "opener.open_image(image_path) # Add the image path here only aftre the first import\n",
    "print(\"Image path: \", opener.get_image_path())  # Print the image path once so It can be copied for the next manipulation \n",
    "image = opener.get_image()  # Import the image object"
   ]
  },
  {
   "cell_type": "markdown",
   "id": "7fb5d7b3",
   "metadata": {},
   "source": [
    "## Exercise 2: Exploring Histograms for Image Analysis\n",
    "\n",
    "\n",
    "**Introduction**: This exercise focuses on advanced histogram analysis in image processing. You will explore how to utilize histograms for effective image analysis, particularly in challenging scenarios where initial assessments may not be sufficient.\n",
    "\n",
    "**Objective**: Learn to use histograms for in-depth image analysis, focusing on identifying specific features in an image. The primary goal is to identify specific features in an image (like a tennis ball) by analyzing the color distribution.\n",
    "\n",
    "\n",
    "**Instructions**:\n",
    "1. **Analyze Color Channels**: Begin by plotting the color channels of your image. Identify which channel best highlights the feature you're interested in.\n",
    "\n",
    "2. **Refine Your Analysis**: If the initial histogram doesn't yield clear information, consider narrowing your focus. This can involve analyzing a specific region of the image or changing channel.\n"
   ]
  },
  {
   "cell_type": "code",
   "execution_count": null,
   "id": "f4c2382c",
   "metadata": {},
   "outputs": [],
   "source": [
    "# Use tools for visulize information about image data"
   ]
  },
  {
   "cell_type": "markdown",
   "id": "4250f23a",
   "metadata": {},
   "source": [
    "# Exercise 3: Extracting Contours from a Ball Image\n",
    "\n",
    "**Objective:** Building upon your understanding of color histograms and image analysis from the previous exercise, your task is now to extract the contour of a tennis ball from an image. \n",
    "\n",
    "Utilize the techniques and functions available in the LabImageProcessing class to achieve precise contour extraction. The focus is on applying primary shape extraction methods to isolate the ball’s contour effectively.\n",
    "\n",
    "**Tips:** Decompose the code step by step use the advantages of using Jupyter notebooks to try somes blocks of code, and redo it again and again\n",
    "\n",
    "**Important !** Remember, the goal is to isolate the tennis ball's contour. \n",
    "Exploit the features in the image and within this object that are highly specific to it. The algorithm may not necessarily be scalable to other use cases but needs to be efficient in this particular scenario.\n",
    "\n",
    "Leverage your learnings from the lecture and previous exercises to approach this task methodically. Consider the unique characteristics of the tennis ball, such as its shape and color, to guide your processing steps."
   ]
  },
  {
   "cell_type": "code",
   "execution_count": null,
   "id": "523b891b",
   "metadata": {},
   "outputs": [],
   "source": [
    "# Try to get a mask from the Image"
   ]
  },
  {
   "cell_type": "markdown",
   "id": "27bd55ae",
   "metadata": {},
   "source": [
    "# Exercise 4: Implementing Video Processing with Contour Detection\n",
    "\n",
    "**Objective**: In this exercise, you'll apply the image processing techniques you learned in Exercise 3 to a video feed. The primary task is to implement a function that detects the contour of a tennis ball in each frame of a video. You'll need to analyze the provided `play_video` function and integrate your contour detection logic into this video processing workflow.\n",
    "\n",
    "**Instructions**:\n",
    "\n",
    "1. **Import and Process the Video**: Just like you imported images in previous exercises, import the video file using the same methods. \n",
    "\n",
    "2. **Analyze the `play_video` Function**: Begin by understanding how the `play_video` function works. Notice how it reads and displays each frame of a video. Your task is to process these frames to detect the tennis ball contour.\n",
    "\n",
    "3. **Implement the `detect_contour` Function**:  This function should take a single frame as input, apply the contour detection techniques from Exercise 3. You are not given specific instructions on how to do this; use your knowledge from Exercise 3.\n",
    "\n",
    "4. **Integrate `detect_contour` into the Video Feed**: After creating the `detect_contour` function, integrate it into the `play_video` function. You'll need to determine the appropriate place in the `play_video` code to call your `detect_contour` function so that it processes each frame of the video.\n",
    "\n",
    "5. **Run the `play_video` Function**: Once you have integrated the `detect_contour` function, run the `play_video` function with the video file path as its argument. This should display the video feed with the detected contours of the tennis ball in each frame.\n",
    "\n",
    "6. **Time your code execution : (Optionnal)** For the optional part of Exercise 4, measure the execution time of your `detect_contour` function using Python's `time` function. Start and stop the timer around the contour detection code to get the processing time for each frame. Then, use `opencv` to display this time directly on the video frames. For detailed usage of these functions, refer to the [OpenCV Documentation](https://docs.opencv.org/3.4/dc/d4d/tutorial_py_table_of_contents_gui.html). This step will help you understand the efficiency of your algorithm in a real-time processing context."
   ]
  },
  {
   "cell_type": "code",
   "execution_count": null,
   "id": "6e944e25",
   "metadata": {},
   "outputs": [],
   "source": [
    "# From now we will use opencv library as well without always the LabImageProcessing binding class\n",
    "\n",
    "import cv2"
   ]
  },
  {
   "cell_type": "markdown",
   "id": "bd0ac063",
   "metadata": {},
   "source": [
    "OpenCV, short for Open Source Computer Vision Library, \n",
    "is a versatile and widely-used open-source software library \n",
    "designed for computer vision and image processing tasks. \n",
    "\n",
    "It offers an extensive set of functions and algorithms, \n",
    "making it an invaluable tool for tasks like image manipulation, \n",
    "object detection, machine learning, and more."
   ]
  },
  {
   "cell_type": "code",
   "execution_count": null,
   "id": "2fb9a07b",
   "metadata": {},
   "outputs": [],
   "source": [
    "def detect_contour(frame): # Find If any input is needed\n",
    "    # Fill the code bellow\n",
    "    # ....\n",
    "    \n",
    "    # ....\n",
    "    pass # Do nothing but make the declaration correct"
   ]
  },
  {
   "cell_type": "markdown",
   "id": "f11a75cd",
   "metadata": {},
   "source": [
    "**CODE** of the `play_video` function to **UNDERSTAND** and **MODIFY**\n"
   ]
  },
  {
   "cell_type": "code",
   "execution_count": null,
   "id": "59b50122",
   "metadata": {},
   "outputs": [],
   "source": [
    "def play_video(file_path):\n",
    "    # Create a video capture object to read from the specified file\n",
    "    cap = cv2.VideoCapture(file_path)\n",
    "\n",
    "    # Check if the video capture object was successfully created\n",
    "    if not cap.isOpened():\n",
    "        print(\"Error: Could not open video.\")\n",
    "        return\n",
    "\n",
    "    # Loop to read and display each frame of the video\n",
    "    while True:\n",
    "        ret, frame = cap.read()  # Read a frame from the video\n",
    "        if not ret:\n",
    "            print(\"Reached end of video or error in reading the video.\")\n",
    "            break  # Exit the loop if no frame is read\n",
    "        \n",
    "        cv2.imshow('Video Frame', frame)  # Display the frame\n",
    "\n",
    "        # Check if 'q' key is pressed to exit the loop\n",
    "        if cv2.waitKey(25) & 0xFF == ord('q'):\n",
    "            break\n",
    "\n",
    "    # Release the video capture object and close all OpenCV windows\n",
    "    cap.release()\n",
    "    cv2.destroyAllWindows()"
   ]
  },
  {
   "cell_type": "code",
   "execution_count": null,
   "id": "360350d6",
   "metadata": {},
   "outputs": [],
   "source": [
    "# Implement any execution code here to run the function play_video\n",
    "# ......"
   ]
  },
  {
   "cell_type": "markdown",
   "id": "e21819e7",
   "metadata": {},
   "source": [
    "# Exercise 5: OpenCV-Based Ball Tracking with Bounding Box\n",
    "\n",
    "**Instructions**:\n",
    "\n",
    "In the next exercise, you will create a ball tracking system using OpenCV's built-in functions for contour detection, specifically `findContours`. Your task is to detect the tennis ball in each frame, find its contour, and draw a bounding box around it. Explore OpenCV's documentation to understand how `findContours` works and how to apply it for detecting the tennis ball. Once the contour is identified, use functions like `cv2.boundingRect` to draw a rectangle around the ball, effectively tracking its position in the video. This approach relies on OpenCV's powerful contour detection capabilities, offering a different method from the previous exercises for tracking the ball.\n",
    "\n",
    "Implement everything back in the `play_video` function and compare it with the previous exercise.\n",
    "\n",
    "**How did it perform ?**"
   ]
  },
  {
   "cell_type": "code",
   "execution_count": null,
   "id": "97f99cf9",
   "metadata": {},
   "outputs": [],
   "source": [
    "import numpy as np\n",
    "def detect_and_track_balls(frame):\n",
    "    # Convert frame to HSV color space\n",
    "    hsv = cv2.cvtColor(frame, cv2.COLOR_BGR2HSV)\n",
    "\n",
    "    # Define range of yellow color in HSV\n",
    "    lower_yellow = np.array([20, 100, 100])\n",
    "    upper_yellow = np.array([30, 255, 255])\n",
    "\n",
    "    # ...."
   ]
  },
  {
   "cell_type": "code",
   "execution_count": null,
   "id": "21fd4c40",
   "metadata": {},
   "outputs": [],
   "source": [
    "def play_video(file_path):\n",
    "    # Create a video capture object to read from the specified file\n",
    "    cap = cv2.VideoCapture(file_path)\n",
    "\n",
    "    # Check if the video capture object was successfully created\n",
    "    if not cap.isOpened():\n",
    "        print(\"Error: Could not open video.\")\n",
    "        return\n",
    "\n",
    "    # Loop to read and display each frame of the video\n",
    "    while True:\n",
    "        ret, frame = cap.read()  # Read a frame from the video\n",
    "        if not ret:\n",
    "            print(\"Reached end of video or error in reading the video.\")\n",
    "            break  # Exit the loop if no frame is read\n",
    "        \n",
    "        cv2.imshow('Video Frame', frame)  # Display the frame\n",
    "\n",
    "        # Check if 'q' key is pressed to exit the loop\n",
    "        if cv2.waitKey(25) & 0xFF == ord('q'):\n",
    "            break\n",
    "\n",
    "    # Release the video capture object and close all OpenCV windows\n",
    "    cap.release()\n",
    "    cv2.destroyAllWindows()"
   ]
  },
  {
   "cell_type": "code",
   "execution_count": null,
   "id": "e86abb9f",
   "metadata": {},
   "outputs": [],
   "source": [
    "# Import the video using the openeer tool (Works both with images and video files)\n",
    "vid_opener = LabImageProcessing.ImageOpener()\n",
    "vid_opener.open_image(None) \n",
    "# Get the video path\n",
    "vid_path = vid_opener.get_image_path()"
   ]
  },
  {
   "cell_type": "code",
   "execution_count": null,
   "id": "27009f91",
   "metadata": {},
   "outputs": [],
   "source": [
    "# Play the video\n",
    "play_video(vid_path)"
   ]
  },
  {
   "cell_type": "markdown",
   "id": "3b907bbf",
   "metadata": {},
   "source": [
    "# Exercise 6 (Optionnal): Dual Ball Tracking in Video with Histogram-Based Identification\n",
    "\n",
    "**Instructions**:\n",
    "\n",
    "In this exercise, you will extend the ball tracking system developed in Exercise 5 to track two balls simultaneously in a new video titled `2_balls_tracking.mp4`. The key challenge here is to not only detect and track both balls but also to distinguish between them consistently throughout the video. This will involve using histogram comparison to identify which ball is which over time.\n",
    "\n",
    "**Steps**:\n",
    "\n",
    "1. **Video Analysis**:\n",
    "   - Start by analyzing the `2_balls_tracking.mp4` video. Observe the characteristics of the two balls you need to track.\n",
    "\n",
    "2. **Contour Detection**:\n",
    "   - Implement contour detection similar to Exercise 5 using OpenCV’s `findContours` function. Detect the contours of the balls in each frame.\n",
    "\n",
    "3. **Bounding Boxes and Tracking**:\n",
    "   - For each detected contour, use `cv2.boundingRect` to draw bounding boxes around the balls.\n",
    "   - Implement a method to track the movement of these bounding boxes across frames.\n",
    "\n",
    " \n"
   ]
  },
  {
   "cell_type": "markdown",
   "id": "8a18682e",
   "metadata": {},
   "source": [
    "   ***2 possibles Approach for Ball Identification***:\n",
    "---\n",
    "1. **Histogram Comparison**:\n",
    "   - Create histograms for each ball in the initial frames where they are distinctly visible.\n",
    "   - In subsequent frames, use histogram comparison techniques (like `cv2.compareHist` or using numpy) to identify each ball.\n",
    "   - This step is crucial for distinguishing between the two balls throughout the video.\n",
    "\n",
    "2. **Centroid Distance Comparison**:\n",
    "    - Update Centroids: Calculate and record the centroids of each detected ball in every frame.\n",
    "    - Distance Calculation: For each new detection, compute the distance to the last known centroids of tracked balls.\n",
    "\n",
    "    **Ball Identification**:\n",
    "   - Based on the previous comparison, label each ball in the video, ensuring that their identity (Ball id1 and Ball id2) remains consistent in each frame.\n",
    "\n",
    "<span style=\"color:red\"> Remember ! Everything is about Tunning !!</span>"
   ]
  },
  {
   "cell_type": "code",
   "execution_count": null,
   "id": "e2f31381",
   "metadata": {},
   "outputs": [],
   "source": [
    "import numpy as np # Is you want to use numpy for analysis\n",
    "\n",
    "class BallTracker:\n",
    "    def __init__(self):\n",
    "        # Initialize a dictionary to keep track of ball paths. Each key in the dictionary\n",
    "        # represents a unique ball ID, and the value is a list of centroids (x, y coordinates)\n",
    "        # representing the path of the ball.\n",
    "        self.ball_paths = {}\n",
    "\n",
    "        # A variable to assign a new unique ID to each ball detected.\n",
    "        self.next_ball_id = 1\n",
    "\n",
    "    def track_ball(self, centroid, frame): # You can add variable depending about what to compare\n",
    "        \n",
    "        # Set a distance threshold to determine if the current centroid is close enough\n",
    "        # to the last known position of a ball to consider it the same ball.\n",
    "        DIST_THRESHOLD = 75\n",
    "\n",
    "        # Iterate through existing ball paths to see if the new centroid matches with\n",
    "        # any of the last positions of the tracked balls.\n",
    "        for ball_id, path in self.ball_paths.items():\n",
    "            # Placeholder for logic to compare the new centroid with the last known\n",
    "            # position of each tracked ball. This comparison can be based on distance,\n",
    "            # or on the histograml around a Region Of Interest (ROI) to define unique features corresponding to balls.\n",
    "            # ...\n",
    "            pass\n",
    "\n",
    "        # If the centroid does not match with existing paths, consider it a new ball.\n",
    "        # Add the centroid to the ball paths dictionary with a new unique ID.\n",
    "        self.ball_paths[self.next_ball_id] = [centroid]\n",
    "        self.next_ball_id += 1  # Increment the ID for the next new ball.\n",
    "\n",
    "        # Return the ID of the tracked or new ball.\n",
    "        return self.next_ball_id - 1\n",
    "\n",
    "    def get_ball_id(self, centroid):\n",
    "        # Iterate through all tracked balls to find if the centroid matches\n",
    "        # the last known position of any tracked ball.\n",
    "        for ball_id, path in self.ball_paths.items():\n",
    "            if path[-1] == centroid:\n",
    "                # If a match is found, return the corresponding ball ID.\n",
    "                return ball_id\n",
    "\n",
    "        # If no match is found, return None.\n",
    "        return None\n"
   ]
  },
  {
   "cell_type": "code",
   "execution_count": null,
   "id": "552c5307",
   "metadata": {},
   "outputs": [],
   "source": [
    "# Select the New Video\n",
    "vid_opener.open_image(None) \n",
    "# Get the video path\n",
    "vid_balls_path = vid_opener.get_image_path()"
   ]
  },
  {
   "cell_type": "code",
   "execution_count": null,
   "id": "f1c50abb",
   "metadata": {},
   "outputs": [],
   "source": []
  }
 ],
 "metadata": {
  "kernelspec": {
   "display_name": "Python 3 (ipykernel)",
   "language": "python",
   "name": "python3"
  },
  "language_info": {
   "codemirror_mode": {
    "name": "ipython",
    "version": 3
   },
   "file_extension": ".py",
   "mimetype": "text/x-python",
   "name": "python",
   "nbconvert_exporter": "python",
   "pygments_lexer": "ipython3",
   "version": "3.8.10"
  }
 },
 "nbformat": 4,
 "nbformat_minor": 5
}
